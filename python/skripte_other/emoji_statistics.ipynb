{
 "cells": [
  {
   "cell_type": "code",
   "execution_count": null,
   "metadata": {
    "colab": {
     "base_uri": "https://localhost:8080/",
     "height": 102
    },
    "colab_type": "code",
    "id": "sk2KvwYLc4Pa",
    "outputId": "91a663a9-cd15-4d46-a9b3-fd67c6242d52"
   },
   "outputs": [],
   "source": [
    "import pandas as pd\n",
    "import numpy as np\n",
    "from sklearn.pipeline import Pipeline\n",
    "from sklearn.feature_extraction.text import CountVectorizer\n",
    "from sklearn.metrics import confusion_matrix\n",
    "from sklearn.model_selection import train_test_split\n",
    "import matplotlib.pyplot  as plt\n",
    "\n",
    "import itertools\n",
    "\n",
    "import nltk\n",
    "nltk.download('twitter_samples')\n",
    "nltk.download('stopwords')\n"
   ]
  },
  {
   "cell_type": "markdown",
   "metadata": {
    "colab_type": "text",
    "id": "w1xOCOy4Cvqm"
   },
   "source": []
  },
  {
   "cell_type": "code",
   "execution_count": null,
   "metadata": {
    "colab": {
     "base_uri": "https://localhost:8080/",
     "height": 193
    },
    "colab_type": "code",
    "id": "07MoI2buaYVI",
    "outputId": "56da5589-9ca0-4bf6-f5ea-acad7d121c70"
   },
   "outputs": [],
   "source": [
    "!pip install emoji\n",
    "!pip install regex\n",
    "!pip install csv\n"
   ]
  },
  {
   "cell_type": "code",
   "execution_count": null,
   "metadata": {
    "colab": {},
    "colab_type": "code",
    "id": "ymt3TLJvDdVE"
   },
   "outputs": [],
   "source": [
    "importdf=pd.read_csv('emoji_cnt_from_q2_597549_samples.csv')\n",
    "importdf.dropna(inplace=True)\n",
    "importdf.reset_index(inplace=True, drop=True)"
   ]
  },
  {
   "cell_type": "code",
   "execution_count": null,
   "metadata": {
    "colab": {},
    "colab_type": "code",
    "id": "QoEcP6zGaYVL"
   },
   "outputs": [],
   "source": [
    "tweet_file = \"../data/german_tweets/german_tweets_text_id_only_q2_597549_samples.csv\"\n",
    "emoji_cnt_file = \"../data/stats/emoji_cnt_from_q2_597549_samples.csv.\""
   ]
  },
  {
   "cell_type": "code",
   "execution_count": null,
   "metadata": {
    "colab": {},
    "colab_type": "code",
    "id": "dXOtDdRne1lR"
   },
   "outputs": [],
   "source": [
    "import emoji\n",
    "import regex\n",
    "import csv\n",
    "\n",
    "def split_count(text):\n",
    "\n",
    "    emoji_list = []\n",
    "    data = regex.findall(r'\\X', text)\n",
    "    for word in data:\n",
    "        if any(char in emoji.UNICODE_EMOJI for char in word):\n",
    "            emoji_list.append(word)\n",
    "\n",
    "    return emoji_list"
   ]
  },
  {
   "cell_type": "code",
   "execution_count": null,
   "metadata": {
    "colab": {},
    "colab_type": "code",
    "id": "sqTTweqayKn_"
   },
   "outputs": [],
   "source": []
  },
  {
   "cell_type": "code",
   "execution_count": null,
   "metadata": {
    "colab": {
     "base_uri": "https://localhost:8080/",
     "height": 130
    },
    "colab_type": "code",
    "id": "yp7oU6AeaYVR",
    "outputId": "50c18835-e9e7-42c8-8598-fd003784b038"
   },
   "outputs": [],
   "source": [
    "def count_emojis_in_tweets(tweet_file):\n",
    "    emoji_cnt = {}\n",
    "    \n",
    "    with open(tweet_file, 'r', encoding='utf-8', newline='') as csvfile:\n",
    "        reader = csv.reader(csvfile, delimiter=';')\n",
    "        i = 0\n",
    "        for row in reader:\n",
    "            if i == 0:\n",
    "                i += 1\n",
    "                continue\n",
    "            #print(', '.join(row))\n",
    "            line = [row[1]]\n",
    "        \n",
    "            counter = split_count(line[0])\n",
    "            unique_counter = {}\n",
    "            for emoji in counter:\n",
    "                unique_counter[emoji] = 1\n",
    "            if len(unique_counter) not in emoji_cnt:\n",
    "                emoji_cnt[len(unique_counter)] = 0\n",
    "            emoji_cnt[len(unique_counter)] += 1    \n",
    "    return emoji_cnt\n",
    "\n",
    "'''            \n",
    "            i += 1\n",
    "            if i > 100:\n",
    "                break;\n",
    "'''         \n",
    "\n",
    "tweet_file = \"../data/german_tweets/german_tweets_text_id_only_q2_597549_samples.csv\"\n",
    "emoji_cnt_file = \"../data/stats/emoji_cnt_from_q2_597549_samples.csv.\"\n",
    "print(count_emojis_in_tweets(tweet_file))\n",
    "#plt.hist {0: 387605, 1: 31664, 3: 3886, 2: 10829, 6: 209, 4: 1133, 5: 458, 9: 34, 13: 3, 12: 3, 8: 50, 15: 2, 10: 15, 7: 117, 23: 1, 14: 2, 11: 6, 16: 2, 24: 1, 17: 2, 20: 1, 19: 1}\n",
    "    \n",
    "    #print count\n",
    "    #  s=str(strs, \"unicode\")\n",
    "    #print(s)\n",
    "    #print(strs)\n",
    "    #emoti = re.finditer(r'[\\U0001f600-\\U0001f650]', s)\n",
    "    #count = sum(1 for _ in emoti)\n",
    "    \n",
    "    "
   ]
  },
  {
   "cell_type": "code",
   "execution_count": null,
   "metadata": {
    "colab": {},
    "colab_type": "code",
    "id": "WH5WinBSyKoY",
    "outputId": "f1363799-602c-4db5-a370-1aa3596e1923"
   },
   "outputs": [],
   "source": [
    "import matplotlib.pyplot as plt\n",
    "import pandas as pd\n",
    "y = (31664,10829, 3886,1133,458,209,117,50,34,15,6,3,3,2)\n",
    "x = (1,2,3,4,5,6,7,8,9,10,11,12,13,14)\n",
    "plt.bar(x,y,align='center') # A bar chart\n",
    "plt.xlabel('count emojes')\n",
    "plt.ylabel('tweets')\n",
    "for i in range(len(y)):\n",
    "    plt.hlines(y[i],0,x[i]) # Here you are drawing the horizontal lines\n",
    "plt.show()"
   ]
  },
  {
   "cell_type": "markdown",
   "metadata": {
    "colab_type": "text",
    "id": "oUS0nVP-ots8"
   },
   "source": [
    "import altair as alt\n",
    "alt.Chart(count_emojis_in_tweets(tweet_file)).mark_bar().encode(\n",
    "  x=alt.X('Miles_per_Gallon', bin=True),\n",
    "  y='count()',\n",
    ")"
   ]
  },
  {
   "cell_type": "code",
   "execution_count": null,
   "metadata": {
    "colab": {
     "base_uri": "https://localhost:8080/",
     "height": 389
    },
    "colab_type": "code",
    "id": "we60oXY8oyf-",
    "outputId": "0bfa4225-61f7-429e-e728-760a958d0754"
   },
   "outputs": [],
   "source": []
  },
  {
   "cell_type": "code",
   "execution_count": null,
   "metadata": {
    "colab": {},
    "colab_type": "code",
    "id": "FLV6aVwcpG5K"
   },
   "outputs": [],
   "source": [
    "# load an example dataset\n",
    "from vega_datasets import data\n",
    "cars = data.cars()\n",
    "\n",
    "# plot the dataset, referencing dataframe column names\n",
    "import altair as alt\n",
    "alt.Chart(cars).mark_bar().encode(\n",
    "  x='mean(Miles_per_Gallon)',\n",
    "  y='Origin',\n",
    "  color='Origin'\n",
    ")"
   ]
  },
  {
   "cell_type": "code",
   "execution_count": null,
   "metadata": {
    "colab": {},
    "colab_type": "code",
    "id": "_HFN1iKciUl2"
   },
   "outputs": [],
   "source": []
  },
  {
   "cell_type": "code",
   "execution_count": null,
   "metadata": {
    "colab": {},
    "colab_type": "code",
    "id": "c4HIp_wiaYVU"
   },
   "outputs": [],
   "source": [
    "def sort_emoji_count_by_value(emoji_cnt):\n",
    "    sorted_by_value = sorted(emoji_cnt.items(), key=lambda kv: kv[1])\n",
    "    sorted_by_value.reverse()\n",
    "    return sorted_by_value"
   ]
  },
  {
   "cell_type": "code",
   "execution_count": null,
   "metadata": {
    "colab": {},
    "colab_type": "code",
    "id": "0_grViaFaYVa"
   },
   "outputs": [],
   "source": [
    "def display_emoji_count(emoji_cnt):\n",
    "    for emoji_tuple in emoji_cnt:\n",
    "        print(emoji_tuple[0]+\": \"+str(emoji_tuple[1]))"
   ]
  },
  {
   "cell_type": "code",
   "execution_count": null,
   "metadata": {
    "colab": {},
    "colab_type": "code",
    "id": "3EADCUnUaYVf"
   },
   "outputs": [],
   "source": [
    "def write_emoji_count(emoji_cnt, emoji_cnt_file):\n",
    "    with open(emoji_cnt_file, 'w', encoding='utf-8', newline='') as csvfile:\n",
    "        writer = csv.writer(csvfile, delimiter=';', \n",
    "                            quoting=csv.QUOTE_MINIMAL)\n",
    "        #writer.writeheader()\n",
    "        writer.writerows(emoji_cnt)"
   ]
  },
  {
   "cell_type": "code",
   "execution_count": null,
   "metadata": {
    "colab": {
     "base_uri": "https://localhost:8080/",
     "height": 267
    },
    "colab_type": "code",
    "id": "TutZtn59aYVm",
    "outputId": "69f0e66f-475f-4d35-fa6b-7567f6c619d7"
   },
   "outputs": [],
   "source": [
    "emoji_cnt = count_emojis_in_tweets(tweet_file)\n",
    "emoji_cnt = sort_emoji_count_by_value(emoji_cnt)\n",
    "\n",
    "#write_emoji_count(emoji_cnt, emoji_cnt_file)\n",
    "display_emoji_count(emoji_cnt)"
   ]
  },
  {
   "cell_type": "code",
   "execution_count": null,
   "metadata": {
    "colab": {},
    "colab_type": "code",
    "id": "q598eEHCaYVt"
   },
   "outputs": [],
   "source": [
    "def count_emoticons_happy\n",
    "for emoticons_happy in emoji_cnt_file\n",
    "print (emoticons_happy)\n"
   ]
  },
  {
   "cell_type": "code",
   "execution_count": null,
   "metadata": {
    "colab": {
     "base_uri": "https://localhost:8080/",
     "height": 168
    },
    "colab_type": "code",
    "id": "I6V_SKn6mXt3",
    "outputId": "0f976de3-3558-46cb-82e8-5b3204b73d0d"
   },
   "outputs": [],
   "source": [
    "def count_emoticons_sad\n",
    "for  emoticons_sad in emoji_cnt_file\n",
    "print (emoticons_sad)"
   ]
  },
  {
   "cell_type": "code",
   "execution_count": null,
   "metadata": {
    "colab": {},
    "colab_type": "code",
    "id": "XRU6q9AxnhHZ",
    "outputId": "471fe352-1a4a-4c3b-807f-b2f228b9aef5"
   },
   "outputs": [],
   "source": [
    "\n",
    "\n",
    "tweet_file = \"data/german_tweets_text_id_only_387627_samples.csv\"\n",
    "emoji_cnt_file = \"data/emoji_cnt_from_387627_samples.csv\"\n",
    "for s in  [emoji_cnt_file]:\n",
    "  m = tweet_file.match(s)\n",
    "  if m :\n",
    "    print s \n",
    "    else :\n",
    "      print 'not'"
   ]
  },
  {
   "cell_type": "code",
   "execution_count": null,
   "metadata": {
    "colab": {},
    "colab_type": "code",
    "id": "v0axCwk0yKpT"
   },
   "outputs": [],
   "source": []
  }
 ],
 "metadata": {
  "colab": {
   "collapsed_sections": [],
   "name": "emoji_statistics.ipynb",
   "provenance": [],
   "toc_visible": true,
   "version": "0.3.2"
  },
  "kernelspec": {
   "display_name": "Python 3",
   "language": "python",
   "name": "python3"
  },
  "language_info": {
   "codemirror_mode": {
    "name": "ipython",
    "version": 3
   },
   "file_extension": ".py",
   "mimetype": "text/x-python",
   "name": "python",
   "nbconvert_exporter": "python",
   "pygments_lexer": "ipython3",
   "version": "3.7.0"
  }
 },
 "nbformat": 4,
 "nbformat_minor": 1
}
